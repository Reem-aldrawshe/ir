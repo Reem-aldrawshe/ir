{
 "cells": [
  {
   "cell_type": "code",
   "id": "initial_id",
   "metadata": {
    "collapsed": true,
    "ExecuteTime": {
     "end_time": "2025-06-24T13:07:08.557039Z",
     "start_time": "2025-06-24T13:07:08.281039Z"
    }
   },
   "source": [
    "from evaluate_tfidf_antique import evaluate_tfidf\n",
    "\n",
    "results_path = r\"C:\\Users\\Reem Darawsheh\\Desktop\\PythonProject\\PythonProject\\Query Matching & Ranking\\TfIdfMatching\\tfidf_results_batch_antique.json\"\n",
    "evaluation_results = evaluate_tfidf(results_path)\n",
    "\n",
    "print(\"📈 نتائج التقييم:\")\n",
    "for metric, value in evaluation_results.items():\n",
    "    print(f\"{metric}: {value}\")\n"
   ],
   "outputs": [
    {
     "name": "stderr",
     "output_type": "stream",
     "text": [
      "📊 تقييم الاستعلامات: 100%|██████████| 176/176 [00:00<00:00, 9262.90it/s]"
     ]
    },
    {
     "name": "stdout",
     "output_type": "stream",
     "text": [
      "📈 نتائج التقييم:\n",
      "Precision@10: 0.3483\n",
      "Recall@10: 0.1169\n",
      "MAP@10: 0.2607\n",
      "NDCG@10: 0.3931\n"
     ]
    },
    {
     "name": "stderr",
     "output_type": "stream",
     "text": [
      "\n"
     ]
    }
   ],
   "execution_count": 17
  },
  {
   "metadata": {
    "ExecuteTime": {
     "end_time": "2025-06-24T13:14:56.015244Z",
     "start_time": "2025-06-24T13:14:55.848282Z"
    }
   },
   "cell_type": "code",
   "source": [
    "import json\n",
    "import ir_datasets\n",
    "from collections import defaultdict\n",
    "import numpy as np\n",
    "from tqdm import tqdm\n",
    "\n",
    "# تحميل qrels من BEIR Quora\n",
    "dataset = ir_datasets.load(\"antique/test/non-offensive\")\n",
    "qrels = defaultdict(set)\n",
    "for qrel in dataset.qrels_iter():\n",
    "    if int(qrel.relevance) > 0:\n",
    "        qrels[qrel.query_id].add(qrel.doc_id)\n",
    "\n",
    "# تحميل نتائج المطابقة من ملف JSON\n",
    "with open(r\"C:\\Users\\Reem Darawsheh\\Desktop\\PythonProject\\PythonProject\\Query Matching & Ranking\\HybridMatching\\hybrid_results_antique.json\", \"r\", encoding=\"utf-8\") as f:\n",
    "    results = json.load(f)\n",
    "\n",
    "# دوال التقييم\n",
    "def precision_at_k(retrieved, relevant, k):\n",
    "    retrieved_k = retrieved[:k]\n",
    "    if not retrieved_k:\n",
    "        return 0.0\n",
    "    return len([doc for doc in retrieved_k if doc in relevant]) / k\n",
    "\n",
    "def recall_at_k(retrieved, relevant, k):\n",
    "    retrieved_k = retrieved[:k]\n",
    "    if not relevant:\n",
    "        return 0.0\n",
    "    return len([doc for doc in retrieved_k if doc in relevant]) / len(relevant)\n",
    "\n",
    "def average_precision(retrieved, relevant, k):\n",
    "    score = 0.0\n",
    "    hits = 0\n",
    "    for i, doc_id in enumerate(retrieved[:k], start=1):\n",
    "        if doc_id in relevant:\n",
    "            hits += 1\n",
    "            score += hits / i\n",
    "    return score / min(len(relevant), k) if relevant else 0.0\n",
    "\n",
    "def dcg(retrieved, relevant, k):\n",
    "    return sum([(1 if retrieved[i] in relevant else 0) / np.log2(i + 2) for i in range(min(len(retrieved), k))])\n",
    "\n",
    "def idcg(relevant, k):\n",
    "    return sum([1 / np.log2(i + 2) for i in range(min(len(relevant), k))])\n",
    "\n",
    "def ndcg_at_k(retrieved, relevant, k):\n",
    "    dcg_val = dcg(retrieved, relevant, k)\n",
    "    idcg_val = idcg(relevant, k)\n",
    "    return dcg_val / idcg_val if idcg_val > 0 else 0.0\n",
    "\n",
    "# التقييم لجميع الاستعلامات\n",
    "k = 10\n",
    "precisions, recalls, maps, ndcgs = [], [], [], []\n",
    "\n",
    "for qid, retrieved_docs in tqdm(results.items(), desc=\"📊 تقييم الاستعلامات\"):\n",
    "    retrieved_doc_ids = [doc_id for doc_id, _ in retrieved_docs]\n",
    "    relevant_doc_ids = qrels[qid]\n",
    "\n",
    "    precisions.append(precision_at_k(retrieved_doc_ids, relevant_doc_ids, k))\n",
    "    recalls.append(recall_at_k(retrieved_doc_ids, relevant_doc_ids, k))\n",
    "    maps.append(average_precision(retrieved_doc_ids, relevant_doc_ids, k))\n",
    "    ndcgs.append(ndcg_at_k(retrieved_doc_ids, relevant_doc_ids, k))\n",
    "\n",
    "# المتوسطات النهائية\n",
    "evaluation_results = {\n",
    "    \"Precision@10\": round(np.mean(precisions), 4),\n",
    "    \"Recall@10\": round(np.mean(recalls), 4),\n",
    "    \"MAP@10\": round(np.mean(maps), 4),\n",
    "    \"NDCG@10\": round(np.mean(ndcgs), 4),\n",
    "}\n",
    "\n",
    "print(\"📈 نتائج التقييم:\")\n",
    "for metric, value in evaluation_results.items():\n",
    "    print(f\"{metric}: {value}\")\n"
   ],
   "id": "9e33b37dac65f24d",
   "outputs": [
    {
     "name": "stderr",
     "output_type": "stream",
     "text": [
      "📊 تقييم الاستعلامات: 100%|██████████| 176/176 [00:00<00:00, 7999.45it/s]"
     ]
    },
    {
     "name": "stdout",
     "output_type": "stream",
     "text": [
      "📈 نتائج التقييم:\n",
      "Precision@10: 0.3898\n",
      "Recall@10: 0.1307\n",
      "MAP@10: 0.3087\n",
      "NDCG@10: 0.4426\n"
     ]
    },
    {
     "name": "stderr",
     "output_type": "stream",
     "text": [
      "\n"
     ]
    }
   ],
   "execution_count": 21
  },
  {
   "metadata": {
    "ExecuteTime": {
     "end_time": "2025-06-24T13:11:27.943295Z",
     "start_time": "2025-06-24T13:11:27.851781Z"
    }
   },
   "cell_type": "code",
   "source": [
    "import json\n",
    "import ir_datasets\n",
    "from collections import defaultdict\n",
    "import numpy as np\n",
    "from tqdm import tqdm\n",
    "\n",
    "# تحميل qrels من BEIR Quora\n",
    "dataset = ir_datasets.load(\"antique/test/non-offensive\")\n",
    "qrels = defaultdict(set)\n",
    "for qrel in dataset.qrels_iter():\n",
    "    if int(qrel.relevance) > 0:\n",
    "        qrels[qrel.query_id].add(qrel.doc_id)\n",
    "\n",
    "# تحميل نتائج المطابقة من ملف JSON\n",
    "with open(r\"C:\\Users\\Reem Darawsheh\\Desktop\\PythonProject\\PythonProject\\Query Matching & Ranking\\BertMatching\\bert_antique_results.json\", \"r\", encoding=\"utf-8\") as f:\n",
    "    results = json.load(f)\n",
    "\n",
    "# دوال التقييم\n",
    "def precision_at_k(retrieved, relevant, k):\n",
    "    retrieved_k = retrieved[:k]\n",
    "    if not retrieved_k:\n",
    "        return 0.0\n",
    "    return len([doc for doc in retrieved_k if doc in relevant]) / k\n",
    "\n",
    "def recall_at_k(retrieved, relevant, k):\n",
    "    retrieved_k = retrieved[:k]\n",
    "    if not relevant:\n",
    "        return 0.0\n",
    "    return len([doc for doc in retrieved_k if doc in relevant]) / len(relevant)\n",
    "\n",
    "def average_precision(retrieved, relevant, k):\n",
    "    score = 0.0\n",
    "    hits = 0\n",
    "    for i, doc_id in enumerate(retrieved[:k], start=1):\n",
    "        if doc_id in relevant:\n",
    "            hits += 1\n",
    "            score += hits / i\n",
    "    return score / min(len(relevant), k) if relevant else 0.0\n",
    "\n",
    "def dcg(retrieved, relevant, k):\n",
    "    return sum([(1 if retrieved[i] in relevant else 0) / np.log2(i + 2) for i in range(min(len(retrieved), k))])\n",
    "\n",
    "def idcg(relevant, k):\n",
    "    return sum([1 / np.log2(i + 2) for i in range(min(len(relevant), k))])\n",
    "\n",
    "def ndcg_at_k(retrieved, relevant, k):\n",
    "    dcg_val = dcg(retrieved, relevant, k)\n",
    "    idcg_val = idcg(relevant, k)\n",
    "    return dcg_val / idcg_val if idcg_val > 0 else 0.0\n",
    "\n",
    "# التقييم لجميع الاستعلامات\n",
    "k = 10\n",
    "precisions, recalls, maps, ndcgs = [], [], [], []\n",
    "\n",
    "for qid, retrieved_docs in tqdm(results.items(), desc=\"📊 تقييم الاستعلامات\"):\n",
    "    retrieved_doc_ids = [doc_id for doc_id, _ in retrieved_docs]\n",
    "    relevant_doc_ids = qrels[qid]\n",
    "\n",
    "    precisions.append(precision_at_k(retrieved_doc_ids, relevant_doc_ids, k))\n",
    "    recalls.append(recall_at_k(retrieved_doc_ids, relevant_doc_ids, k))\n",
    "    maps.append(average_precision(retrieved_doc_ids, relevant_doc_ids, k))\n",
    "    ndcgs.append(ndcg_at_k(retrieved_doc_ids, relevant_doc_ids, k))\n",
    "\n",
    "# المتوسطات النهائية\n",
    "evaluation_results = {\n",
    "    \"Precision@10\": round(np.mean(precisions), 4),\n",
    "    \"Recall@10\": round(np.mean(recalls), 4),\n",
    "    \"MAP@10\": round(np.mean(maps), 4),\n",
    "    \"NDCG@10\": round(np.mean(ndcgs), 4),\n",
    "}\n",
    "\n",
    "print(\"📈 نتائج التقييم:\")\n",
    "for metric, value in evaluation_results.items():\n",
    "    print(f\"{metric}: {value}\")\n"
   ],
   "id": "45f4a7b60a28fe52",
   "outputs": [
    {
     "name": "stderr",
     "output_type": "stream",
     "text": [
      "📊 تقييم الاستعلامات: 100%|██████████| 176/176 [00:00<00:00, 15998.73it/s]"
     ]
    },
    {
     "name": "stdout",
     "output_type": "stream",
     "text": [
      "📈 نتائج التقييم:\n",
      "Precision@10: 0.333\n",
      "Recall@10: 0.1105\n",
      "MAP@10: 0.2561\n",
      "NDCG@10: 0.3883\n"
     ]
    },
    {
     "name": "stderr",
     "output_type": "stream",
     "text": [
      "\n"
     ]
    }
   ],
   "execution_count": 19
  }
 ],
 "metadata": {
  "kernelspec": {
   "display_name": "Python 3",
   "language": "python",
   "name": "python3"
  },
  "language_info": {
   "codemirror_mode": {
    "name": "ipython",
    "version": 2
   },
   "file_extension": ".py",
   "mimetype": "text/x-python",
   "name": "python",
   "nbconvert_exporter": "python",
   "pygments_lexer": "ipython2",
   "version": "2.7.6"
  }
 },
 "nbformat": 4,
 "nbformat_minor": 5
}
