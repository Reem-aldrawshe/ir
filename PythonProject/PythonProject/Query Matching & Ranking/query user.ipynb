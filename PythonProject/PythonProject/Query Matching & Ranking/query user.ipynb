{
 "cells": [
  {
   "cell_type": "code",
   "id": "initial_id",
   "metadata": {
    "collapsed": true,
    "ExecuteTime": {
     "end_time": "2025-06-24T14:18:23.295846Z",
     "start_time": "2025-06-24T14:17:12.757597Z"
    }
   },
   "source": [
    "from query_search import run_query_search\n",
    "\n",
    "# مثال تشغيل\n",
    "query = \"كيف يتم معالجة اللغة الطبيعية؟\"\n",
    "method = \"hybrid\"  # أو \"tfidf\" أو \"bert\"\n",
    "\n",
    "results = run_query_search(query, method=method, top_k=10)\n",
    "print(results)\n"
   ],
   "outputs": [
    {
     "name": "stdout",
     "output_type": "stream",
     "text": [
      "✅ تم حفظ النتائج في: user_query_result.json\n"
     ]
    }
   ],
   "execution_count": 10
  }
 ],
 "metadata": {
  "kernelspec": {
   "display_name": "Python 3",
   "language": "python",
   "name": "python3"
  },
  "language_info": {
   "codemirror_mode": {
    "name": "ipython",
    "version": 2
   },
   "file_extension": ".py",
   "mimetype": "text/x-python",
   "name": "python",
   "nbconvert_exporter": "python",
   "pygments_lexer": "ipython2",
   "version": "2.7.6"
  }
 },
 "nbformat": 4,
 "nbformat_minor": 5
}
