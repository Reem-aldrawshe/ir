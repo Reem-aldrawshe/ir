{
 "cells": [
  {
   "cell_type": "code",
   "id": "initial_id",
   "metadata": {
    "collapsed": true,
    "ExecuteTime": {
     "end_time": "2025-06-22T13:00:04.391312Z",
     "start_time": "2025-06-22T13:00:04.370380Z"
    }
   },
   "source": [
    "from match_tfidf_with_joblib import match_tfidf_with_joblib\n",
    "\n",
    "match_tfidf_with_joblib(\n",
    "    docs_joblib_path=r\"C:\\Users\\Reem Darawsheh\\Desktop\\PythonProject/data/docs_tfidf.joblib\",\n",
    "    queries_joblib_path=r\"C:\\Users\\Reem Darawsheh\\Desktop\\PythonProject/data/queries_tfidf.joblib\",\n",
    "    output_path=r\"C:/Users/User/Desktop/PythonProject/results/tfidf_results_batch.json\",\n",
    "    top_k=100,\n",
    "    batch_size_queries=100\n",
    ")\n"
   ],
   "outputs": [],
   "execution_count": 3
  },
  {
   "metadata": {
    "ExecuteTime": {
     "end_time": "2025-06-22T13:09:49.423240Z",
     "start_time": "2025-06-22T13:00:54.409156Z"
    }
   },
   "cell_type": "code",
   "source": [
    "# === مثال تنفيذ ===\n",
    "if __name__ == \"__main__\":\n",
    "    docs_joblib_path = r\"C:\\Users\\Reem Darawsheh\\Desktop\\PythonProject\\PythonProject\\Data Representation\\TF-IDF\\beir\\quora\\test\\doc\\tfidf_data.joblib\"\n",
    "    queries_joblib_path = r\"C:\\Users\\Reem Darawsheh\\Desktop\\PythonProject\\PythonProject\\Query Processing\\tfidf\\queries_tfidf_reencoded.joblib\"\n",
    "\n",
    "    match_tfidf_with_joblib(\n",
    "        docs_joblib_path=docs_joblib_path,\n",
    "        queries_joblib_path=queries_joblib_path,\n",
    "        top_k=100,\n",
    "        batch_size_queries=100\n",
    "    )\n"
   ],
   "id": "679b7eb2199d0f6f",
   "outputs": [
    {
     "name": "stdout",
     "output_type": "stream",
     "text": [
      "🔹 تحميل ملف الوثائق (tfidf_matrix + doc_ids)...\n",
      "🔹 تحميل ملف الاستعلامات (query_tfidf_matrix + query_ids)...\n",
      "📏 عدد الاستعلامات: 10000, عدد الوثائق: 522931\n"
     ]
    },
    {
     "name": "stderr",
     "output_type": "stream",
     "text": [
      "🔄 مطابقة دفعات الاستعلامات: 100%|██████████| 100/100 [08:40<00:00,  5.21s/it]\n"
     ]
    },
    {
     "name": "stdout",
     "output_type": "stream",
     "text": [
      "✅ تم حفظ نتائج المطابقة في tfidf_results_batch.json\n"
     ]
    }
   ],
   "execution_count": 5
  },
  {
   "metadata": {
    "ExecuteTime": {
     "end_time": "2025-06-22T11:01:44.900053Z",
     "start_time": "2025-06-22T11:01:41.569189Z"
    }
   },
   "cell_type": "code",
   "source": [
    "import joblib\n",
    "from scipy.sparse import csr_matrix\n",
    "\n",
    "# تحميل النصوص الأصلية للاستعلامات\n",
    "queries_data = joblib.load(r\"C:\\Users\\Reem Darawsheh\\Desktop\\PythonProject\\PythonProject\\Query Processing\\tfidf\\queries_tfidf.joblib\")\n",
    "query_ids = queries_data[\"query_ids\"]\n",
    "clean_texts = queries_data[\"clean_texts\"]\n",
    "\n",
    "# تحميل vectorizer الخاص بالوثائق\n",
    "doc_vectorizer_data = joblib.load(r\"C:\\Users\\Reem Darawsheh\\Desktop\\PythonProject\\PythonProject\\Data Representation\\TF-IDF\\beir\\quora\\test\\doc\\tfidf_data.joblib\")\n",
    "vectorizer = doc_vectorizer_data[\"vectorizer\"]\n",
    "\n",
    "# إعادة تحويل الاستعلامات لنفس فضاء الميزات\n",
    "query_matrix = vectorizer.transform(clean_texts)\n",
    "\n",
    "# حفظ التمثيل المعاد ترميزه\n",
    "joblib.dump({\n",
    "    \"query_ids\": query_ids,\n",
    "    \"clean_texts\": clean_texts,\n",
    "    \"query_tfidf_matrix\": query_matrix,\n",
    "    \"vectorizer\": vectorizer  # اختياري للتوثيق\n",
    "}, \"queries_tfidf_reencoded.joblib\")\n",
    "\n",
    "print(\"✅ تم حفظ الاستعلامات بتمثيل متوافق مع الوثائق.\")\n"
   ],
   "id": "fdc113742f16f1a0",
   "outputs": [
    {
     "name": "stdout",
     "output_type": "stream",
     "text": [
      "✅ تم حفظ الاستعلامات بتمثيل متوافق مع الوثائق.\n"
     ]
    }
   ],
   "execution_count": 26
  },
  {
   "metadata": {
    "ExecuteTime": {
     "end_time": "2025-06-24T12:34:47.402004Z",
     "start_time": "2025-06-24T12:34:47.251874Z"
    }
   },
   "cell_type": "code",
   "source": [
    "import joblib\n",
    "import numpy as np\n",
    "from sklearn.metrics.pairwise import cosine_similarity\n",
    "from tqdm import tqdm\n",
    "import json\n",
    "from scipy.sparse import csr_matrix\n",
    "\n",
    "\n",
    "\n",
    "def custom_tokenizer(text):\n",
    "    return text.split()\n",
    "\n",
    "def match_tfidf_with_joblib(\n",
    "    docs_joblib_path: str,\n",
    "    queries_joblib_path: str,\n",
    "    top_k: int = 100,\n",
    "    batch_size_queries: int = 100\n",
    "):\n",
    "    print(\"🔹 تحميل ملف الوثائق (tfidf_matrix + doc_ids)...\")\n",
    "    docs_data = joblib.load(docs_joblib_path)\n",
    "    doc_ids = docs_data[\"doc_ids\"]\n",
    "    tfidf_docs: csr_matrix = docs_data[\"tfidf_matrix\"]\n",
    "\n",
    "    print(\"🔹 تحميل ملف الاستعلامات (query_tfidf_matrix + query_ids)...\")\n",
    "    queries_data = joblib.load(queries_joblib_path)\n",
    "\n",
    "    # اختيار مصفوفة الـ tfidf الخاصة بالاستعلامات بطريقة سليمة\n",
    "    if \"query_tfidf_matrix\" in queries_data:\n",
    "        tfidf_queries = queries_data[\"query_tfidf_matrix\"]\n",
    "    elif \"tfidf_matrix\" in queries_data:\n",
    "        tfidf_queries = queries_data[\"tfidf_matrix\"]\n",
    "    elif \"queries_tfidf_matrix\" in queries_data:\n",
    "        tfidf_queries = queries_data[\"queries_tfidf_matrix\"]\n",
    "    else:\n",
    "        raise ValueError(\"❌ لم يتم العثور على أي مصفوفة tfidf في ملف الاستعلامات.\")\n",
    "\n",
    "    # اختيار الـ query_ids بطريقة سليمة\n",
    "    if \"query_ids\" in queries_data:\n",
    "        query_ids = queries_data[\"query_ids\"]\n",
    "    elif \"doc_ids\" in queries_data:\n",
    "        query_ids = queries_data[\"doc_ids\"]\n",
    "    else:\n",
    "        raise ValueError(\"❌ لم يتم العثور على 'query_ids' أو 'doc_ids' في ملف الاستعلامات.\")\n",
    "\n",
    "    num_queries = tfidf_queries.shape[0]\n",
    "    print(f\"📏 عدد الاستعلامات: {num_queries}, عدد الوثائق: {tfidf_docs.shape[0]}\")\n",
    "\n",
    "    results = {}\n",
    "\n",
    "    for start in tqdm(range(0, num_queries, batch_size_queries), desc=\"🔄 مطابقة دفعات الاستعلامات\"):\n",
    "        end = min(start + batch_size_queries, num_queries)\n",
    "        batch_queries = tfidf_queries[start:end]\n",
    "\n",
    "        # حساب مصفوفة التشابه (batch_size_queries x num_docs)\n",
    "        sim_matrix = cosine_similarity(batch_queries, tfidf_docs)\n",
    "\n",
    "        for i, query_idx in enumerate(range(start, end)):\n",
    "            sims = sim_matrix[i]\n",
    "            top_indices = np.argpartition(sims, -top_k)[-top_k:]\n",
    "            top_scores = sims[top_indices]\n",
    "            sorted_idx = top_indices[np.argsort(-top_scores)]\n",
    "\n",
    "            results[query_ids[query_idx]] = [\n",
    "                (doc_ids[idx], float(sims[idx])) for idx in sorted_idx\n",
    "            ]\n",
    "\n",
    "    # حفظ النتائج\n",
    "    with open(\"tfidf_results_batch_antique.json\", \"w\", encoding=\"utf-8\") as f:\n",
    "        json.dump(results, f, indent=2)\n",
    "\n",
    "    print(\"✅ تم حفظ نتائج المطابقة في tfidf_results_batch_antique.json\")\n",
    "\n",
    "\n"
   ],
   "id": "3af002451fa16f4c",
   "outputs": [],
   "execution_count": 3
  },
  {
   "metadata": {
    "ExecuteTime": {
     "end_time": "2025-06-24T13:06:54.164420Z",
     "start_time": "2025-06-24T13:06:47.371591Z"
    }
   },
   "cell_type": "code",
   "source": [
    "# === مثال تنفيذ ===\n",
    "if __name__ == \"__main__\":\n",
    "    docs_joblib_path = r\"C:\\Users\\Reem Darawsheh\\Desktop\\PythonProject\\PythonProject\\Data Representation\\TF-IDF\\antique\\train\\doc\\tfidf_data.joblib\"\n",
    "    queries_joblib_path = r\"C:\\Users\\Reem Darawsheh\\Desktop\\PythonProject\\PythonProject\\Query Processing\\tfidf\\queries_tfidf_antique.joblib\"\n",
    "\n",
    "    match_tfidf_with_joblib(\n",
    "        docs_joblib_path=docs_joblib_path,\n",
    "        queries_joblib_path=queries_joblib_path,\n",
    "        top_k=100,\n",
    "        batch_size_queries=100\n",
    "    )\n"
   ],
   "id": "ed3d442d76ba1ef5",
   "outputs": [
    {
     "name": "stdout",
     "output_type": "stream",
     "text": [
      "🔹 تحميل ملف الوثائق (tfidf_matrix + doc_ids)...\n",
      "🔹 تحميل ملف الاستعلامات (query_tfidf_matrix + query_ids)...\n",
      "📏 عدد الاستعلامات: 176, عدد الوثائق: 403666\n"
     ]
    },
    {
     "name": "stderr",
     "output_type": "stream",
     "text": [
      "🔄 مطابقة دفعات الاستعلامات: 100%|██████████| 2/2 [00:04<00:00,  2.10s/it]"
     ]
    },
    {
     "name": "stdout",
     "output_type": "stream",
     "text": [
      "✅ تم حفظ نتائج المطابقة في tfidf_results_batch_antique.json\n"
     ]
    },
    {
     "name": "stderr",
     "output_type": "stream",
     "text": [
      "\n"
     ]
    }
   ],
   "execution_count": 6
  }
 ],
 "metadata": {
  "kernelspec": {
   "display_name": "Python 3",
   "language": "python",
   "name": "python3"
  },
  "language_info": {
   "codemirror_mode": {
    "name": "ipython",
    "version": 2
   },
   "file_extension": ".py",
   "mimetype": "text/x-python",
   "name": "python",
   "nbconvert_exporter": "python",
   "pygments_lexer": "ipython2",
   "version": "2.7.6"
  }
 },
 "nbformat": 4,
 "nbformat_minor": 5
}
