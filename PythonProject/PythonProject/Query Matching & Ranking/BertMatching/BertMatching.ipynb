{
 "cells": [
  {
   "metadata": {
    "collapsed": true,
    "ExecuteTime": {
     "end_time": "2025-06-23T11:00:41.298587Z",
     "start_time": "2025-06-23T11:00:24.333481Z"
    }
   },
   "cell_type": "code",
   "outputs": [],
   "execution_count": 1,
   "source": [
    "# استيراد الدالة من السكريبت\n",
    "from match_bert_embeddings import match_bert_embeddings\n",
    "\n",
    "# استدعاء الدالة مباشرة\n",
    "match_bert_embeddings(\n",
    "    docs_embedding_path=r\"C:\\Users\\Reem Darawsheh\\Desktop\\PythonProject/data/doc_bert_embeddings.joblib\",\n",
    "    queries_embedding_path=r\"C:\\Users\\Reem Darawsheh\\Desktop\\PythonProject/data/query_bert_embeddings.joblib\",\n",
    "    output_path=r\"C:\\Users\\Reem Darawsheh\\Desktop\\PythonProject/results/bert_results.json\",\n",
    "    top_k=100,\n",
    "    batch_size_queries=100\n",
    ")\n"
   ],
   "id": "initial_id"
  },
  {
   "metadata": {
    "ExecuteTime": {
     "end_time": "2025-06-22T11:27:41.966441Z",
     "start_time": "2025-06-22T11:23:12.124059Z"
    }
   },
   "cell_type": "code",
   "source": [
    "if __name__ == \"__main__\":\n",
    "    docs_embedding_path = r\"C:\\Users\\Reem Darawsheh\\Desktop\\PythonProject\\PythonProject\\Data Representation\\Bert\\beir\\quora\\test\\doc\\bert_embedding.joblib\"\n",
    "    queries_embedding_path = r\"C:\\Users\\Reem Darawsheh\\Desktop\\PythonProject\\PythonProject\\Query Processing\\Bertquery\\BEIR\\quora\\test\\query_embeddings\\bert_query_embeddings.joblib\"\n",
    "    output_path = r\"C:\\Users\\Reem Darawsheh\\Desktop\\PythonProject\\PythonProject\\Query Matching & Ranking\\BertMatching\\bert_results.json\"\n",
    "\n",
    "    match_bert_embeddings(\n",
    "        docs_embedding_path,\n",
    "        queries_embedding_path,\n",
    "        output_path,\n",
    "        top_k=100,\n",
    "        batch_size_queries=100\n",
    "    )\n"
   ],
   "id": "9568471ce5ad4685",
   "outputs": [
    {
     "name": "stdout",
     "output_type": "stream",
     "text": [
      "📥 تحميل تمثيلات الوثائق...\n",
      "📥 تحميل تمثيلات الاستعلامات...\n",
      "📊 عدد الاستعلامات: 10000, عدد الوثائق: 522931\n"
     ]
    },
    {
     "name": "stderr",
     "output_type": "stream",
     "text": [
      "🔄 مطابقة دفعات الاستعلامات: 100%|██████████| 100/100 [03:28<00:00,  2.09s/it]\n"
     ]
    },
    {
     "name": "stdout",
     "output_type": "stream",
     "text": [
      "✅ تم حفظ النتائج في: C:\\Users\\Azzam\\PycharmProjects\\PythonProject\\Query Matching & Ranking\\bert_results.json\n"
     ]
    }
   ],
   "execution_count": 3
  },
  {
   "metadata": {
    "ExecuteTime": {
     "end_time": "2025-06-24T09:59:51.736962Z",
     "start_time": "2025-06-24T09:59:51.709869Z"
    }
   },
   "cell_type": "code",
   "outputs": [],
   "execution_count": 5,
   "source": [
    "import joblib\n",
    "import numpy as np\n",
    "from sklearn.metrics.pairwise import cosine_similarity\n",
    "from tqdm import tqdm\n",
    "import json\n",
    "import os\n",
    "\n",
    "def match_bert_embeddings(\n",
    "    docs_embedding_path: str,\n",
    "    queries_embedding_path: str,\n",
    "    output_path: str = \"bert_antique_results.json\",\n",
    "    top_k: int = 100,\n",
    "    batch_size_queries: int = 100\n",
    "):\n",
    "    print(\"📥 تحميل تمثيلات الوثائق...\")\n",
    "    doc_data = joblib.load(docs_embedding_path)\n",
    "    doc_ids = doc_data[\"doc_ids\"]\n",
    "    doc_embeddings = np.vstack(doc_data[\"embeddings_matrix\"])  # shape: (num_docs, dim)\n",
    "\n",
    "    print(\"📥 تحميل تمثيلات الاستعلامات...\")\n",
    "    query_data = joblib.load(queries_embedding_path)\n",
    "    query_ids = query_data[\"query_ids\"]\n",
    "    query_embeddings = np.vstack(query_data[\"embeddings\"])  # shape: (num_queries, dim)\n",
    "\n",
    "    results = {}\n",
    "\n",
    "    num_queries = len(query_embeddings)\n",
    "    print(f\"📊 عدد الاستعلامات: {num_queries}, عدد الوثائق: {len(doc_ids)}\")\n",
    "\n",
    "    for start in tqdm(range(0, num_queries, batch_size_queries), desc=\"🔄 مطابقة دفعات الاستعلامات\"):\n",
    "        end = min(start + batch_size_queries, num_queries)\n",
    "        batch_queries = query_embeddings[start:end]\n",
    "\n",
    "        sim_matrix = cosine_similarity(batch_queries, doc_embeddings)\n",
    "\n",
    "        for i, query_idx in enumerate(range(start, end)):\n",
    "            sims = sim_matrix[i]\n",
    "            top_indices = np.argpartition(sims, -top_k)[-top_k:]\n",
    "            top_scores = sims[top_indices]\n",
    "            sorted_idx = top_indices[np.argsort(-top_scores)]\n",
    "\n",
    "            # ✅ تعديل هنا لتخزين القيم كمصفوفات بدل tuple\n",
    "            results[str(query_ids[query_idx])] = [\n",
    "                [str(doc_ids[idx]), float(sims[idx])] for idx in sorted_idx\n",
    "            ]\n",
    "\n",
    "    # حفظ النتائج\n",
    "    os.makedirs(os.path.dirname(output_path), exist_ok=True)\n",
    "    with open(output_path, \"w\", encoding=\"utf-8\") as f:\n",
    "        json.dump(results, f, indent=2, ensure_ascii=False)\n",
    "\n",
    "    print(f\"✅ تم حفظ النتائج في: {output_path}\")\n",
    "\n",
    "\n"
   ],
   "id": "6804b9bf46ba93b"
  },
  {
   "metadata": {
    "ExecuteTime": {
     "end_time": "2025-06-24T13:09:58.193621Z",
     "start_time": "2025-06-24T13:09:32.278022Z"
    }
   },
   "cell_type": "code",
   "source": [
    "if __name__ == \"__main__\":\n",
    "    docs_embedding_path = r\"C:\\Users\\Reem Darawsheh\\Desktop\\PythonProject\\PythonProject\\Data Representation\\Bert\\antique\\train\\doc\\bert_embedding.joblib\"\n",
    "    queries_embedding_path = r\"C:\\Users\\Reem Darawsheh\\Desktop\\PythonProject\\PythonProject\\Query Processing\\Bertquery\\antique\\train\\query_embeddings\\bert_query_embeddings.joblib\"\n",
    "    output_path = r\"C:\\Users\\Reem Darawsheh\\Desktop\\PythonProject\\PythonProject\\Query Matching & Ranking\\BertMatching\\bert_antique_results.json\"\n",
    "\n",
    "    match_bert_embeddings(\n",
    "        docs_embedding_path,\n",
    "        queries_embedding_path,\n",
    "        output_path,\n",
    "        top_k=100,\n",
    "        batch_size_queries=100\n",
    "    )\n"
   ],
   "id": "2c4ab843e8572526",
   "outputs": [
    {
     "name": "stdout",
     "output_type": "stream",
     "text": [
      "📥 تحميل تمثيلات الوثائق...\n",
      "📥 تحميل تمثيلات الاستعلامات...\n",
      "📊 عدد الاستعلامات: 176, عدد الوثائق: 401768\n"
     ]
    },
    {
     "name": "stderr",
     "output_type": "stream",
     "text": [
      "🔄 مطابقة دفعات الاستعلامات: 100%|██████████| 2/2 [00:02<00:00,  1.25s/it]\n"
     ]
    },
    {
     "name": "stdout",
     "output_type": "stream",
     "text": [
      "✅ تم حفظ النتائج في: C:\\Users\\Azzam\\PycharmProjects\\PythonProject\\Query Matching & Ranking\\BertMatching\\bert_antique_results.json\n"
     ]
    }
   ],
   "execution_count": 7
  }
 ],
 "metadata": {
  "kernelspec": {
   "display_name": "Python 3",
   "language": "python",
   "name": "python3"
  },
  "language_info": {
   "codemirror_mode": {
    "name": "ipython",
    "version": 2
   },
   "file_extension": ".py",
   "mimetype": "text/x-python",
   "name": "python",
   "nbconvert_exporter": "python",
   "pygments_lexer": "ipython2",
   "version": "2.7.6"
  }
 },
 "nbformat": 4,
 "nbformat_minor": 5
}
