{
 "cells": [
  {
   "cell_type": "code",
   "id": "initial_id",
   "metadata": {
    "collapsed": true,
    "ExecuteTime": {
     "end_time": "2025-06-22T12:39:24.977648Z",
     "start_time": "2025-06-22T12:39:17.597229Z"
    }
   },
   "source": [
    "import os\n",
    "import re\n",
    "import joblib\n",
    "import ir_datasets\n",
    "import nltk\n",
    "from tqdm import tqdm\n",
    "from pymongo import MongoClient\n",
    "from nltk.stem import WordNetLemmatizer\n",
    "from sklearn.feature_extraction.text import TfidfVectorizer\n",
    "\n",
    "# تحميل موارد NLTK\n",
    "nltk.download(\"punkt\")\n",
    "nltk.download(\"wordnet\")\n",
    "nltk.download(\"omw-1.4\")\n",
    "\n",
    "def custom_tokenizer(text):\n",
    "    return text.split()\n",
    "\n",
    "lemmatizer = WordNetLemmatizer()\n",
    "\n",
    "def tokenize(text):\n",
    "    text = text.lower()\n",
    "    tokens = re.findall(r'\\b\\w+\\b', text)\n",
    "    return tokens\n",
    "\n",
    "def lemmatize_tokens(tokens):\n",
    "    return [lemmatizer.lemmatize(token) for token in tokens]\n",
    "\n",
    "def clean_text(text):\n",
    "    tokens = tokenize(text)\n",
    "    lemmas = lemmatize_tokens(tokens)\n",
    "    return \" \".join(lemmas)\n",
    "\n",
    "# تحميل الاستعلامات من BEIR\n",
    "dataset = ir_datasets.load(\"beir/quora/test\")\n",
    "\n",
    "query_ids = []\n",
    "original_texts = []\n",
    "clean_texts = []\n",
    "\n",
    "print(\"🧼 تنظيف الاستعلامات...\")\n",
    "for query in tqdm(dataset.queries_iter()):\n",
    "    cleaned = clean_text(query.text)\n",
    "    if cleaned.strip():\n",
    "        query_ids.append(query.query_id)\n",
    "        original_texts.append(query.text)\n",
    "        clean_texts.append(cleaned)\n",
    "\n",
    "# تحميل vectorizer الخاص بالوثائق\n",
    "doc_vectorizer_path = r\"C:\\Users\\Reem Darawsheh\\Desktop\\PythonProject\\PythonProject\\Data Representation\\TF-IDF\\beir\\quora\\test\\doc\\tfidf_data.joblib\"\n",
    "doc_vectorizer = joblib.load(doc_vectorizer_path)[\"vectorizer\"]\n",
    "\n",
    "# تحويل الاستعلامات إلى تمثيل TF-IDF\n",
    "print(\"🔢 تحويل الاستعلامات باستخدام vectorizer الخاص بالوثائق...\")\n",
    "query_tfidf_matrix = doc_vectorizer.transform(clean_texts)\n",
    "\n",
    "# حفظ النتائج إلى ملف joblib\n",
    "output_dir = r\"C:\\Users\\Reem Darawsheh\\Desktop\\PythonProject\\PythonProject\\Query Processing\\tfidf\"\n",
    "os.makedirs(output_dir, exist_ok=True)\n",
    "output_path = os.path.join(output_dir, \"queries_tfidf_reencoded.joblib\")\n",
    "\n",
    "joblib.dump({\n",
    "    \"query_ids\": query_ids,\n",
    "    \"original_texts\": original_texts,\n",
    "    \"clean_texts\": clean_texts,\n",
    "    \"query_tfidf_matrix\": query_tfidf_matrix,\n",
    "    \"vectorizer\": doc_vectorizer\n",
    "}, output_path)\n",
    "\n",
    "print(f\"✅ تم حفظ تمثيل الاستعلامات المتوافق في: {output_path}\")\n",
    "\n",
    "# 🧭 تخزين في MongoDB\n",
    "print(\"📦 تخزين الاستعلامات في MongoDB...\")\n",
    "\n",
    "client = MongoClient(\"mongodb://localhost:27017/\")\n",
    "db = client[\"ir_project\"]\n",
    "collection = db[\"queries_quora_test_tfidf_reencoded\"]\n",
    "\n",
    "# حذف المجموعة القديمة إن وُجدت\n",
    "collection.delete_many({})\n",
    "\n",
    "docs = []\n",
    "for i in range(len(query_ids)):\n",
    "    vec = query_tfidf_matrix[i].tocoo()  # تحويل إلى صيغة COO لسهولة التعامل\n",
    "    doc = {\n",
    "        \"query_id\": query_ids[i],\n",
    "        \"original_text\": original_texts[i],\n",
    "        \"clean_text\": clean_texts[i],\n",
    "        \"tfidf_indices\": vec.col.tolist(),\n",
    "        \"tfidf_values\": vec.data.tolist()\n",
    "    }\n",
    "    docs.append(doc)\n",
    "\n",
    "collection.insert_many(docs)\n",
    "print(f\"✅ تم تخزين {len(docs)} استعلام في MongoDB داخل المجموعة: {collection.name}\")\n"
   ],
   "outputs": [
    {
     "name": "stderr",
     "output_type": "stream",
     "text": [
      "[nltk_data] Downloading package punkt to\n",
      "[nltk_data]     C:\\Users\\Azzam\\AppData\\Roaming\\nltk_data...\n",
      "[nltk_data]   Package punkt is already up-to-date!\n",
      "[nltk_data] Downloading package wordnet to\n",
      "[nltk_data]     C:\\Users\\Azzam\\AppData\\Roaming\\nltk_data...\n",
      "[nltk_data]   Package wordnet is already up-to-date!\n",
      "[nltk_data] Downloading package omw-1.4 to\n",
      "[nltk_data]     C:\\Users\\Azzam\\AppData\\Roaming\\nltk_data...\n",
      "[nltk_data]   Package omw-1.4 is already up-to-date!\n"
     ]
    },
    {
     "name": "stdout",
     "output_type": "stream",
     "text": [
      "🧼 تنظيف الاستعلامات...\n"
     ]
    },
    {
     "name": "stderr",
     "output_type": "stream",
     "text": [
      "10000it [00:01, 8490.86it/s]\n"
     ]
    },
    {
     "name": "stdout",
     "output_type": "stream",
     "text": [
      "🔢 تحويل الاستعلامات باستخدام vectorizer الخاص بالوثائق...\n",
      "✅ تم حفظ تمثيل الاستعلامات المتوافق في: C:\\Users\\Azzam\\PycharmProjects\\PythonProject\\Query Processing\\tfidf\\queries_tfidf_reencoded.joblib\n",
      "📦 تخزين الاستعلامات في MongoDB...\n",
      "✅ تم تخزين 10000 استعلام في MongoDB داخل المجموعة: queries_quora_test_tfidf_reencoded\n"
     ]
    }
   ],
   "execution_count": 2
  },
  {
   "metadata": {
    "ExecuteTime": {
     "end_time": "2025-06-24T13:05:34.943253Z",
     "start_time": "2025-06-24T13:05:28.431657Z"
    }
   },
   "cell_type": "code",
   "source": [
    "import os\n",
    "import re\n",
    "import joblib\n",
    "import ir_datasets\n",
    "import nltk\n",
    "from tqdm import tqdm\n",
    "from pymongo import MongoClient\n",
    "from nltk.stem import WordNetLemmatizer\n",
    "from sklearn.feature_extraction.text import TfidfVectorizer\n",
    "\n",
    "# تحميل موارد NLTK\n",
    "nltk.download(\"punkt\")\n",
    "nltk.download(\"wordnet\")\n",
    "nltk.download(\"omw-1.4\")\n",
    "\n",
    "def custom_tokenizer(text):\n",
    "    return text.split()\n",
    "\n",
    "lemmatizer = WordNetLemmatizer()\n",
    "\n",
    "def tokenize(text):\n",
    "    text = text.lower()\n",
    "    tokens = re.findall(r'\\b\\w+\\b', text)\n",
    "    return tokens\n",
    "\n",
    "def lemmatize_tokens(tokens):\n",
    "    return [lemmatizer.lemmatize(token) for token in tokens]\n",
    "\n",
    "def clean_text(text):\n",
    "    tokens = tokenize(text)\n",
    "    lemmas = lemmatize_tokens(tokens)\n",
    "    return \" \".join(lemmas)\n",
    "\n",
    "# تحميل الاستعلامات من BEIR\n",
    "dataset = ir_datasets.load(\"antique/test/non-offensive\")\n",
    "\n",
    "query_ids = []\n",
    "original_texts = []\n",
    "clean_texts = []\n",
    "\n",
    "print(\"🧼 تنظيف الاستعلامات...\")\n",
    "for query in tqdm(dataset.queries_iter()):\n",
    "    cleaned = clean_text(query.text)\n",
    "    if cleaned.strip():\n",
    "        query_ids.append(query.query_id)\n",
    "        original_texts.append(query.text)\n",
    "        clean_texts.append(cleaned)\n",
    "\n",
    "# تحميل vectorizer الخاص بالوثائق\n",
    "doc_vectorizer_path = r\"C:\\Users\\Reem Darawsheh\\Desktop\\PythonProject\\PythonProject\\Data Representation\\TF-IDF\\antique\\train\\doc\\tfidf_data.joblib\"\n",
    "doc_vectorizer = joblib.load(doc_vectorizer_path)[\"vectorizer\"]\n",
    "\n",
    "# تحويل الاستعلامات إلى تمثيل TF-IDF\n",
    "print(\"🔢 تحويل الاستعلامات باستخدام vectorizer الخاص بالوثائق...\")\n",
    "query_tfidf_matrix = doc_vectorizer.transform(clean_texts)\n",
    "\n",
    "# حفظ النتائج إلى ملف joblib\n",
    "output_dir = r\"C:\\Users\\Reem Darawsheh\\Desktop\\PythonProject\\PythonProject\\Query Processing\\tfidf\"\n",
    "os.makedirs(output_dir, exist_ok=True)\n",
    "output_path = os.path.join(output_dir, \"queries_tfidf_antique.joblib\")\n",
    "\n",
    "joblib.dump({\n",
    "    \"query_ids\": query_ids,\n",
    "    \"original_texts\": original_texts,\n",
    "    \"clean_texts\": clean_texts,\n",
    "    \"query_tfidf_matrix\": query_tfidf_matrix,\n",
    "    \"vectorizer\": doc_vectorizer\n",
    "}, output_path)\n",
    "\n",
    "print(f\"✅ تم حفظ تمثيل الاستعلامات المتوافق في: {output_path}\")\n",
    "#\n",
    "# # 🧭 تخزين في MongoDB\n",
    "# print(\"📦 تخزين الاستعلامات في MongoDB...\")\n",
    "#\n",
    "# client = MongoClient(\"mongodb://localhost:27017/\")\n",
    "# db = client[\"ir_project\"]\n",
    "# collection = db[\"queries_antique_train_tfidf_reencoded\"]\n",
    "#\n",
    "# # حذف المجموعة القديمة إن وُجدت\n",
    "# collection.delete_many({})\n",
    "#\n",
    "# docs = []\n",
    "# for i in range(len(query_ids)):\n",
    "#     vec = query_tfidf_matrix[i].tocoo()  # تحويل إلى صيغة COO لسهولة التعامل\n",
    "#     doc = {\n",
    "#         \"query_id\": query_ids[i],\n",
    "#         \"original_text\": original_texts[i],\n",
    "#         \"clean_text\": clean_texts[i],\n",
    "#         \"tfidf_indices\": vec.col.tolist(),\n",
    "#         \"tfidf_values\": vec.data.tolist()\n",
    "#     }\n",
    "#     docs.append(doc)\n",
    "#\n",
    "# collection.insert_many(docs)\n",
    "# print(f\"✅ تم تخزين {len(docs)} استعلام في MongoDB داخل المجموعة: {collection.name}\")\n"
   ],
   "id": "66f7baf5075dc6ac",
   "outputs": [
    {
     "name": "stderr",
     "output_type": "stream",
     "text": [
      "[nltk_data] Downloading package punkt to\n",
      "[nltk_data]     C:\\Users\\Azzam\\AppData\\Roaming\\nltk_data...\n",
      "[nltk_data]   Package punkt is already up-to-date!\n",
      "[nltk_data] Downloading package wordnet to\n",
      "[nltk_data]     C:\\Users\\Azzam\\AppData\\Roaming\\nltk_data...\n",
      "[nltk_data]   Package wordnet is already up-to-date!\n",
      "[nltk_data] Downloading package omw-1.4 to\n",
      "[nltk_data]     C:\\Users\\Azzam\\AppData\\Roaming\\nltk_data...\n",
      "[nltk_data]   Package omw-1.4 is already up-to-date!\n"
     ]
    },
    {
     "name": "stdout",
     "output_type": "stream",
     "text": [
      "🧼 تنظيف الاستعلامات...\n"
     ]
    },
    {
     "name": "stderr",
     "output_type": "stream",
     "text": [
      "[INFO] Please confirm you agree to the authors' data usage agreement found at <https://ciir.cs.umass.edu/downloads/Antique/readme.txt>\n",
      "[INFO] [starting] https://ciir.cs.umass.edu/downloads/Antique/test-queries-blacklist.txt\n",
      "0it [00:03, ?it/s]\n",
      "                  ass.edu/downloads/Antique/test-queries-blacklist.txt: 0.0%| 0.00/184 [00:00<?, ?B/s]\u001B[A\r\n",
      "\u001B[A                                                                                                   [INFO] [finished] https://ciir.cs.umass.edu/downloads/Antique/test-queries-blacklist.txt: [00:00] [184B] [183kB/s]\n",
      "0it [00:03, ?it/s]\n",
      "https://ciir.cs.umass.edu/downloads/Antique/test-queries-blacklist.txt: [00:00] [184B] [30.7kB/s]\u001B[A\n",
      "176it [00:03, 51.07it/s]                                                                         \u001B[A\n"
     ]
    },
    {
     "name": "stdout",
     "output_type": "stream",
     "text": [
      "🔢 تحويل الاستعلامات باستخدام vectorizer الخاص بالوثائق...\n",
      "✅ تم حفظ تمثيل الاستعلامات المتوافق في: C:\\Users\\Azzam\\PycharmProjects\\PythonProject\\Query Processing\\tfidf\\queries_tfidf_antique.joblib\n",
      "📦 تخزين الاستعلامات في MongoDB...\n",
      "✅ تم تخزين 176 استعلام في MongoDB داخل المجموعة: queries_antique_train_tfidf_reencoded\n"
     ]
    }
   ],
   "execution_count": 6
  },
  {
   "metadata": {
    "ExecuteTime": {
     "end_time": "2025-06-24T09:29:37.933684Z",
     "start_time": "2025-06-24T09:29:36.554543Z"
    }
   },
   "cell_type": "code",
   "source": [
    "import joblib\n",
    "data = joblib.load(r\"C:\\Users\\User\\Desktop\\PythonProject\\PythonProject\\Query Processing\\tfidf\\queries_tfidf_antique.joblib\")\n",
    "print(len(data[\"query_ids\"]))\n",
    "print(data[\"query_ids\"][:10])\n"
   ],
   "id": "7ee95bb05ed6c549",
   "outputs": [
    {
     "name": "stdout",
     "output_type": "stream",
     "text": [
      "2426\n",
      "['3097310', '3910705', '237390', '2247892', '1078492', '782453', '3198658', '1907320', '10895', '992730']\n"
     ]
    }
   ],
   "execution_count": 2
  },
  {
   "metadata": {
    "ExecuteTime": {
     "end_time": "2025-06-24T09:32:54.638290Z",
     "start_time": "2025-06-24T09:32:52.865892Z"
    }
   },
   "cell_type": "code",
   "source": [
    "import joblib\n",
    "\n",
    "bert_data = joblib.load(r\"C:\\Users\\User\\Desktop\\PythonProject\\PythonProject\\Query Processing\\Bertquery\\antique\\train\\query_embeddings\\bert_query_embeddings.joblib\")\n",
    "tfidf_data = joblib.load(r\"C:\\Users\\User\\Desktop\\PythonProject\\PythonProject\\Query Processing\\tfidf\\queries_tfidf_antique.joblib\")\n",
    "\n",
    "bert_ids = set(bert_data[\"query_ids\"])\n",
    "tfidf_ids = set(tfidf_data[\"query_ids\"])\n",
    "\n",
    "common_ids = bert_ids & tfidf_ids\n",
    "print(\"✅ الاستعلامات المشتركة:\", len(common_ids))\n",
    "print(\"📦 عدد استعلامات BERT:\", len(bert_ids))\n",
    "print(\"📦 عدد استعلامات TF-IDF:\", len(tfidf_ids))\n",
    "print(\"❌ الاستعلامات غير الموجودة في BERT:\", len(tfidf_ids - bert_ids))\n",
    "print(\"❌ الاستعلامات غير الموجودة في TF-IDF:\", len(bert_ids - tfidf_ids))\n"
   ],
   "id": "6ad04e950cdc9d5c",
   "outputs": [
    {
     "name": "stdout",
     "output_type": "stream",
     "text": [
      "✅ الاستعلامات المشتركة: 2426\n",
      "📦 عدد استعلامات BERT: 2426\n",
      "📦 عدد استعلامات TF-IDF: 2426\n",
      "❌ الاستعلامات غير الموجودة في BERT: 0\n",
      "❌ الاستعلامات غير الموجودة في TF-IDF: 0\n"
     ]
    }
   ],
   "execution_count": 3
  }
 ],
 "metadata": {
  "kernelspec": {
   "display_name": "Python 3",
   "language": "python",
   "name": "python3"
  },
  "language_info": {
   "codemirror_mode": {
    "name": "ipython",
    "version": 2
   },
   "file_extension": ".py",
   "mimetype": "text/x-python",
   "name": "python",
   "nbconvert_exporter": "python",
   "pygments_lexer": "ipython2",
   "version": "2.7.6"
  }
 },
 "nbformat": 4,
 "nbformat_minor": 5
}
