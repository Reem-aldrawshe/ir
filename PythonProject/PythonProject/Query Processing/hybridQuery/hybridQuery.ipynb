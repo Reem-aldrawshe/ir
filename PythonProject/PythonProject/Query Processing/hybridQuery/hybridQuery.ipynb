{
 "cells": [
  {
   "cell_type": "code",
   "id": "initial_id",
   "metadata": {
    "collapsed": true,
    "ExecuteTime": {
     "end_time": "2025-07-12T18:52:48.899524Z",
     "start_time": "2025-07-12T18:52:48.873131Z"
    }
   },
   "source": [
    "import sys\n",
    "sys.path.append(r\"C:\\Users\\Reem Darawsheh\\Desktop\\PythonProject/PythonProject\")\n",
    "\n",
    "from process_beir_queries import main\n",
    "\n",
    "main()\n"
   ],
   "outputs": [
    {
     "name": "stdout",
     "output_type": "stream",
     "text": [
      "📦 تم حفظ تمثيل الاستعلامات الهجين في: C:\\Users\\Reem Darawsheh\\Desktop\\PythonProject\\PythonProject\\Query Processing\\hybridQuery\\BEIR\\quora\\test\\hybird_query_data.joblib\n"
     ]
    }
   ],
   "execution_count": 1
  },
  {
   "metadata": {
    "ExecuteTime": {
     "end_time": "2025-07-12T18:54:38.749145Z",
     "start_time": "2025-07-12T18:54:38.726324Z"
    }
   },
   "cell_type": "code",
   "source": [
    "import os\n",
    "import re\n",
    "import json\n",
    "import joblib\n",
    "import ir_datasets\n",
    "import nltk\n",
    "import numpy as np\n",
    "from tqdm import tqdm\n",
    "from pymongo import MongoClient\n",
    "from nltk.stem import WordNetLemmatizer\n",
    "from sklearn.feature_extraction.text import TfidfVectorizer\n",
    "\n",
    "# تحميل موارد NLTK\n",
    "nltk.download(\"wordnet\")\n",
    "nltk.download(\"omw-1.4\")\n",
    "\n",
    "lemmatizer = WordNetLemmatizer()\n",
    "\n",
    "def tokenize(text):\n",
    "    text = text.lower()\n",
    "    return re.findall(r'\\b\\w+\\b', text)\n",
    "\n",
    "def lemmatize_tokens(tokens):\n",
    "    return [lemmatizer.lemmatize(token) for token in tokens]\n",
    "\n",
    "def clean_text(text):\n",
    "    tokens = tokenize(text)\n",
    "    lemmas = lemmatize_tokens(tokens)\n",
    "    return \" \".join(lemmas)\n",
    "\n",
    "# ------------------ المسارات -------------------\n",
    "bert_path = r\"C:\\Users\\Reem Darawsheh\\Desktop\\PythonProject\\PythonProject\\Query Processing\\Bertquery\\antique\\train\\query_embeddings\\bert_query_embeddings.joblib\"\n",
    "vectorizer_path = r\"C:\\Users\\Reem Darawsheh\\Desktop\\PythonProject\\PythonProject\\Data Representation\\TF-IDF\\antique\\train\\doc\\tfidf_data.joblib\"\n",
    "output_path = r\"C:\\Users\\Reem Darawsheh\\Desktop\\PythonProject\\PythonProject\\Query Processing\\hybridQuery\\Antique\\train\\hybird_query_data.joblib\"\n",
    "\n",
    "# ------------------ تحميل البيانات -------------------\n",
    "bert_data = joblib.load(bert_path)\n",
    "vectorizer_data = joblib.load(vectorizer_path)\n",
    "vectorizer = vectorizer_data[\"vectorizer\"]\n",
    "\n",
    "bert_embeddings = bert_data[\"embeddings\"]\n",
    "bert_model_name = bert_data[\"model_name\"]\n",
    "bert_query_ids = bert_data[\"query_ids\"]\n",
    "\n",
    "# ربط تمثيلات BERT بالـ query_id\n",
    "bert_map = {\n",
    "    qid: emb for qid, emb in zip(bert_query_ids, bert_embeddings)\n",
    "}\n",
    "\n",
    "# تحميل الاستعلامات\n",
    "dataset = ir_datasets.load(\"antique/test/non-offensive\")\n",
    "\n",
    "query_docs = []\n",
    "query_ids = []\n",
    "original_texts = []\n",
    "clean_texts = []\n",
    "tfidf_indices_list = []\n",
    "tfidf_values_list = []\n",
    "\n",
    "print(\"🧼 تنظيف الاستعلامات...\")\n",
    "for query in tqdm(dataset.queries_iter()):\n",
    "    cleaned = clean_text(query.text)\n",
    "    if not cleaned.strip():\n",
    "        continue\n",
    "\n",
    "    if query.query_id not in bert_map:\n",
    "        continue  # تجاهل الاستعلامات التي لا يوجد لها تمثيل BERT\n",
    "\n",
    "    # تمثيل TF-IDF\n",
    "    tfidf_vector = vectorizer.transform([cleaned])\n",
    "    row = tfidf_vector.getrow(0).tocoo()\n",
    "\n",
    "    # بناء الإدخال\n",
    "    doc = {\n",
    "        \"query_id\": query.query_id,\n",
    "        \"original_text\": query.text,\n",
    "        \"clean_text\": cleaned,\n",
    "        \"bert_embedding\": bert_map[query.query_id].tolist(),\n",
    "        \"tfidf_indices\": row.col.tolist(),\n",
    "        \"tfidf_values\": row.data.tolist()\n",
    "    }\n",
    "    query_docs.append(doc)\n",
    "\n",
    "    # تجميع للـ joblib لاحقًا\n",
    "    query_ids.append(query.query_id)\n",
    "    original_texts.append(query.text)\n",
    "    clean_texts.append(cleaned)\n",
    "    tfidf_indices_list.append(row.col.tolist())\n",
    "    tfidf_values_list.append(row.data.tolist())\n",
    "\n",
    "# ------------------ تخزين في MongoDB -------------------\n",
    "client = MongoClient(\"mongodb://localhost:27017/\")\n",
    "db = client[\"ir_project\"]\n",
    "collection = db[\"queries_quora_test_hybrid_antique\"]\n",
    "collection.delete_many({})\n",
    "collection.insert_many(query_docs)\n",
    "\n",
    "print(f\"✅ تم تخزين {len(query_docs)} استعلام هجين في MongoDB داخل: {collection.name}\")\n",
    "\n",
    "# ------------------ حفظ بصيغة joblib -------------------\n",
    "os.makedirs(os.path.dirname(output_path), exist_ok=True)\n",
    "\n",
    "joblib.dump({\n",
    "    \"query_ids\": query_ids,\n",
    "    \"original_texts\": original_texts,\n",
    "    \"clean_texts\": clean_texts,\n",
    "    \"bert_embeddings\": [bert_map[qid].tolist() for qid in query_ids],\n",
    "    \"tfidf_indices\": tfidf_indices_list,\n",
    "    \"tfidf_values\": tfidf_values_list,\n",
    "    \"bert_model_name\": bert_model_name\n",
    "}, output_path)\n",
    "\n",
    "print(f\"📦 تم حفظ تمثيل الاستعلامات الهجين في: {output_path}\")\n",
    "\n"
   ],
   "id": "7c1302d64ff69ab",
   "outputs": [
    {
     "name": "stdout",
     "output_type": "stream",
     "text": [
      "📦 تم حفظ تمثيل الاستعلامات الهجين في: C:\\Users\\Reem Darawsheh\\Desktop\\PythonProject\\PythonProject\\Query Processing\\hybridQuery\\Antique\\quora\\test\\hybird_query_data.joblib\n"
     ]
    }
   ],
   "execution_count": 2
  }
 ],
 "metadata": {
  "kernelspec": {
   "display_name": "Python 3",
   "language": "python",
   "name": "python3"
  },
  "language_info": {
   "codemirror_mode": {
    "name": "ipython",
    "version": 2
   },
   "file_extension": ".py",
   "mimetype": "text/x-python",
   "name": "python",
   "nbconvert_exporter": "python",
   "pygments_lexer": "ipython2",
   "version": "2.7.6"
  }
 },
 "nbformat": 4,
 "nbformat_minor": 5
}
