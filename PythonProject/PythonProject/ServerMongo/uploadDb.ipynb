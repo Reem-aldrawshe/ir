{
 "cells": [
  {
   "cell_type": "code",
   "id": "initial_id",
   "metadata": {
    "collapsed": true,
    "ExecuteTime": {
     "end_time": "2025-06-22T09:38:01.797470Z",
     "start_time": "2025-06-22T09:30:57.792631Z"
    }
   },
   "source": [
    "import joblib\n",
    "from pymongo import MongoClient\n",
    "from tqdm import tqdm\n",
    "\n",
    "def load_bert_docs(file_path, collection_name, db_name=\"ir_project\"):\n",
    "    data = joblib.load(file_path)\n",
    "    client = MongoClient(\"mongodb://localhost:27017/\")\n",
    "    db = client[db_name]\n",
    "    collection = db[collection_name]\n",
    "\n",
    "    collection.delete_many({})  # تنظيف المجموعة قبل الإضافة\n",
    "\n",
    "    doc_ids = data.get(\"doc_ids\")\n",
    "    embeddings = data.get(\"embeddings_matrix\")\n",
    "\n",
    "    if doc_ids is None or embeddings is None:\n",
    "        print(\"⚠️ تأكد من وجود المفاتيح 'doc_ids' و 'embeddings_matrix' في الملف.\")\n",
    "        return\n",
    "\n",
    "    docs = []\n",
    "    for i in tqdm(range(len(doc_ids)), desc=f\"تحميل مستندات BERT -> {collection_name}\"):\n",
    "        doc = {\n",
    "            \"document_id\": doc_ids[i],\n",
    "            \"bert_embedding\": embeddings[i].tolist()  # تحويل من numpy إلى list\n",
    "        }\n",
    "        docs.append(doc)\n",
    "\n",
    "    collection.insert_many(docs)\n",
    "    print(f\"✅ تم رفع {len(docs)} مستند BERT إلى المجموعة: {collection_name}\")\n",
    "\n",
    "# تنفيذ التحميل\n",
    "bert_docs_path = r\"C:\\Users\\Reem Darawsheh\\Desktop\\PythonProject\\PythonProject\\Data Representation\\Bert\\beir\\quora\\test\\doc\\bert_embedding.joblib\"\n",
    "load_bert_docs(bert_docs_path, \"docs_bert\")\n"
   ],
   "outputs": [
    {
     "name": "stderr",
     "output_type": "stream",
     "text": [
      "تحميل مستندات BERT -> docs_bert: 100%|██████████| 522931/522931 [02:00<00:00, 4349.25it/s] \n"
     ]
    },
    {
     "name": "stdout",
     "output_type": "stream",
     "text": [
      "✅ تم رفع 522931 مستند BERT إلى المجموعة: docs_bert\n"
     ]
    }
   ],
   "execution_count": 6
  },
  {
   "metadata": {
    "ExecuteTime": {
     "end_time": "2025-06-22T09:03:09.515967Z",
     "start_time": "2025-06-22T09:03:07.356498Z"
    }
   },
   "cell_type": "code",
   "source": [
    "import joblib\n",
    "\n",
    "file_path = r\"C:\\Users\\Reem Darawsheh\\Desktop\\PythonProject\\PythonProject\\Data Representation\\TF-IDF\\beir\\quora\\test\\doc\\tfidf_data.joblib\"\n",
    "data = joblib.load(file_path)\n",
    "print(\"Keys in file:\", list(data.keys()))\n"
   ],
   "id": "d7ad26bd594880c1",
   "outputs": [
    {
     "name": "stdout",
     "output_type": "stream",
     "text": [
      "Keys in file: ['tfidf_matrix', 'vectorizer', 'doc_ids']\n"
     ]
    }
   ],
   "execution_count": 3
  },
  {
   "metadata": {
    "ExecuteTime": {
     "end_time": "2025-06-22T09:04:35.218014Z",
     "start_time": "2025-06-22T09:03:35.459563Z"
    }
   },
   "cell_type": "code",
   "source": [
    "file_path = r\"C:\\Users\\Reem Darawsheh\\Desktop\\PythonProject\\PythonProject\\Data Representation\\Bert\\beir\\quora\\test\\doc\\bert_embedding.joblib\"\n",
    "data = joblib.load(file_path)\n",
    "print(\"Keys in file:\", list(data.keys()))\n"
   ],
   "id": "9df4aa9eae7f5e06",
   "outputs": [
    {
     "name": "stdout",
     "output_type": "stream",
     "text": [
      "Keys in file: ['doc_ids', 'embeddings_matrix', 'model_name']\n"
     ]
    }
   ],
   "execution_count": 4
  }
 ],
 "metadata": {
  "kernelspec": {
   "display_name": "Python 3",
   "language": "python",
   "name": "python3"
  },
  "language_info": {
   "codemirror_mode": {
    "name": "ipython",
    "version": 2
   },
   "file_extension": ".py",
   "mimetype": "text/x-python",
   "name": "python",
   "nbconvert_exporter": "python",
   "pygments_lexer": "ipython2",
   "version": "2.7.6"
  }
 },
 "nbformat": 4,
 "nbformat_minor": 5
}
