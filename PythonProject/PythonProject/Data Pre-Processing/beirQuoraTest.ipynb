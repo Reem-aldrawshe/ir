{
 "cells": [
  {
   "metadata": {
    "ExecuteTime": {
     "end_time": "2025-07-12T16:07:47.885070Z",
     "start_time": "2025-07-12T16:04:03.756142Z"
    }
   },
   "cell_type": "code",
   "source": [
    "import sys\n",
    "\n",
    "# إضافة المسار الذي يحتوي على السكريبت\n",
    "sys.path.append(r\"C:\\Users\\Reem Darawsheh\\Desktop\\PythonProject\\PythonProject\\scripts\")  # غيّر حسب مسارك\n",
    "\n",
    "# الاستيراد\n",
    "from preprocess_quora_documents import process_dataset\n",
    "\n",
    "# التشغيل\n",
    "process_dataset(\n",
    "    dataset_name=\"beir/quora/test\",\n",
    "    db_name=\"ir_project\",\n",
    "    collection_name=\"documents_quora_test\"\n",
    ")\n"
   ],
   "id": "7c6f699a7690acdc",
   "outputs": [
    {
     "name": "stdout",
     "output_type": "stream",
     "text": [
      "🚀 Processing documents from beir/quora/test...\n"
     ]
    },
    {
     "name": "stderr",
     "output_type": "stream",
     "text": [
      "100%|██████████| 522931/522931 [03:23<00:00, 2566.05it/s]\n"
     ]
    },
    {
     "name": "stdout",
     "output_type": "stream",
     "text": [
      "✅ Saved cleaned documents to: beir\\quora\\test\\doc\\docs.json\n",
      "✅ Stored cleaned documents in MongoDB collection: documents_quora_test\n"
     ]
    }
   ],
   "execution_count": 2
  }
 ],
 "metadata": {
  "kernelspec": {
   "display_name": "Python 3",
   "language": "python",
   "name": "python3"
  },
  "language_info": {
   "codemirror_mode": {
    "name": "ipython",
    "version": 2
   },
   "file_extension": ".py",
   "mimetype": "text/x-python",
   "name": "python",
   "nbconvert_exporter": "python",
   "pygments_lexer": "ipython2",
   "version": "2.7.6"
  }
 },
 "nbformat": 4,
 "nbformat_minor": 5
}
