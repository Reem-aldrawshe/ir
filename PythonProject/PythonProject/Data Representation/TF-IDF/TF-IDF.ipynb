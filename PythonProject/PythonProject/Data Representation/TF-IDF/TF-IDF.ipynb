{
 "cells": [
  {
   "cell_type": "code",
   "id": "initial_id",
   "metadata": {
    "collapsed": true,
    "ExecuteTime": {
     "end_time": "2025-07-12T16:47:02.136640Z",
     "start_time": "2025-07-12T16:47:02.113225Z"
    }
   },
   "source": [
    "import sys\n",
    "sys.path.append(r\"C:\\Users\\Reem Darawsheh\\Desktop\\PythonProject/PythonProject/scripts\")  # عدّل حسب موقع السكريبت\n",
    "\n",
    "from process_tfidf import process_dataset\n",
    "\n",
    "# # استدعاء الوظيفة\n",
    "process_dataset(\"beir/quora/test\", \"documents_quora_test\")\n",
    "\n",
    "\n"
   ],
   "outputs": [
    {
     "name": "stdout",
     "output_type": "stream",
     "text": [
      "✅ Saved TF-IDF to: beir\\quora\\test\\doc\\tfidf_data.joblib\n"
     ]
    }
   ],
   "execution_count": 2
  },
  {
   "metadata": {
    "ExecuteTime": {
     "end_time": "2025-06-22T15:09:27.267354Z",
     "start_time": "2025-06-22T15:02:00.107471Z"
    }
   },
   "cell_type": "code",
   "source": [
    "# Antique Dataset\n",
    "process_dataset(\"antique/train\", \"documents_test\")"
   ],
   "id": "d119e0607567b983",
   "outputs": [
    {
     "name": "stdout",
     "output_type": "stream",
     "text": [
      "🚀 Processing TF-IDF from MongoDB collection: documents_test using new cleaning...\n"
     ]
    },
    {
     "name": "stderr",
     "output_type": "stream",
     "text": [
      "100%|██████████| 403666/403666 [06:01<00:00, 1117.29it/s]\n",
      "100%|██████████| 403666/403666 [00:56<00:00, 7200.09it/s]\n"
     ]
    },
    {
     "name": "stdout",
     "output_type": "stream",
     "text": [
      "✅ TF-IDF stored in MongoDB collection: tfidf_documents_test_recleaned\n",
      "✅ TF-IDF matrix and vectorizer saved to joblib file: antique\\train\\doc\\tfidf_data.joblib\n"
     ]
    }
   ],
   "execution_count": 2
  },
  {
   "metadata": {
    "ExecuteTime": {
     "end_time": "2025-06-19T12:28:39.834631Z",
     "start_time": "2025-06-19T12:28:37.519321Z"
    }
   },
   "cell_type": "code",
   "source": [
    "import joblib\n",
    "\n",
    "def custom_tokenizer(text):\n",
    "    return text.split()\n",
    "\n",
    "data = joblib.load(r\"C:\\Users\\Reem Darawsheh\\Desktop\\PythonProject\\PythonProject\\Data Representation\\TF-IDF\\beir\\quora\\test\\doc\\tfidf_data.joblib\")\n",
    "\n",
    "print(type(data))  # لازم يكون dict\n",
    "print(data.keys())  # لازم تكون فيه: tfidf_matrix, vectorizer, doc_ids\n",
    "\n",
    "print(type(data[\"tfidf_matrix\"]))   # <class 'scipy.sparse.csr.csr_matrix'>\n",
    "print(type(data[\"vectorizer\"]))     # <class 'sklearn.feature_extraction.text.TfidfVectorizer'>\n",
    "print(data[\"doc_ids\"][:5])"
   ],
   "id": "907a8fb070387d96",
   "outputs": [
    {
     "name": "stdout",
     "output_type": "stream",
     "text": [
      "<class 'dict'>\n",
      "dict_keys(['tfidf_matrix', 'vectorizer', 'doc_ids'])\n",
      "<class 'scipy.sparse._csr.csr_matrix'>\n",
      "<class 'sklearn.feature_extraction.text.TfidfVectorizer'>\n",
      "['1', '2', '3', '4', '5']\n"
     ]
    }
   ],
   "execution_count": 4
  }
 ],
 "metadata": {
  "kernelspec": {
   "display_name": "Python 3",
   "language": "python",
   "name": "python3"
  },
  "language_info": {
   "codemirror_mode": {
    "name": "ipython",
    "version": 2
   },
   "file_extension": ".py",
   "mimetype": "text/x-python",
   "name": "python",
   "nbconvert_exporter": "python",
   "pygments_lexer": "ipython2",
   "version": "2.7.6"
  }
 },
 "nbformat": 4,
 "nbformat_minor": 5
}
